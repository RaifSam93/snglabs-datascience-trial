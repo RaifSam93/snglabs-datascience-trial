{
  "nbformat": 4,
  "nbformat_minor": 0,
  "metadata": {
    "colab": {
      "provenance": []
    },
    "kernelspec": {
      "name": "python3",
      "display_name": "Python 3"
    },
    "language_info": {
      "name": "python"
    }
  },
  "cells": [
    {
      "cell_type": "markdown",
      "source": [
        "#Welcome to the SNG Labs Python Machine Learning and Data Analysis Trial Course!\n"
      ],
      "metadata": {
        "id": "S7iij1std2jP"
      }
    },
    {
      "cell_type": "markdown",
      "source": [
        "Here , you will experience a hands on course trial using jupyter notebook environment. In this course, you will learn how to code in Python and run a simple machine learning algorithms, specifically for data analysis. To run the code, we will be using a kernel for each topic we cover. For every topic, we will provide you with sample code that you can run and experiment with to better understand how it works. Once you have run the code, you will be given sample exercises to test your understanding of the topic. These exercises are designed to help you reinforce what you've learned and ensure your comprehension of each concept."
      ],
      "metadata": {
        "id": "1tBIKXd1eJDo"
      }
    },
    {
      "cell_type": "markdown",
      "source": [
        "###Different types of Programming Language"
      ],
      "metadata": {
        "id": "so0lslJ3jsOv"
      }
    },
    {
      "cell_type": "markdown",
      "source": [
        "In the current era, there are many programming languages used by industry and academia. These programming languages are designed to cater different purposes for example, high performance computing, data management, machine learning, web development etc. The programming languages typically divided into 3 different level:"
      ],
      "metadata": {
        "id": "UwocoDjej1Ol"
      }
    },
    {
      "cell_type": "markdown",
      "source": [
        "**1) Machine Level Language : **\n",
        "\n",
        "Machine-level language involves directly manipulating the switches and transistors of electronic circuits within a computer to achieve specific desired outputs. The inputs and outputs in this language are represented as binary numbers, consisting of 0s and 1s. These numbers can only be understood by the machine or computer itself. However, there are tools available that can translate these numbers, with Assembly language being one prominent example. Assembly language serves as an intermediate language between low-level and machine-level languages, enabling human-readable instructions that can be converted into machine code understood by the computer.\n",
        "\n",
        "\n",
        "** 2) Low - Level Language **\n",
        "\n",
        "  Low-level language is responsible for interpreting machine-level outputs into a higher-level language that humans can understand. It allows users to comprehend the input, output, and operations performed by the computer or machine. Utilizing low-level language provides certain advantages, such as the ability to directly manipulate and allocate computer hardware resources, including memory.\n",
        "\n",
        "  To execute code in a low-level language, a compiler is used to translate the written code into machine language. Common examples of low-level languages include C++, C, and Rust. Rust, in particular, offers advanced features like potential memory leak detection prior to code compilation. Low-level languages are crucial for high-performance computing, aiming to minimize computing time and costs.\n",
        "\n",
        "  Various applications benefit from high-performance computing using low-level languages. Examples include automated high-frequency trading among quantitative traders, fast data acquisition and manipulation for physics analysis in Large Hadron Colliders, real-time gravitational wave detection, nuclear reaction simulation, and more. These domains require efficient and optimized computations to achieve their objectives effectively.\n",
        "\n",
        "\n",
        "**  3) High Level Language:**\n",
        "\n",
        "High-level languages are programming languages that are designed to be more user-friendly and enable developers to accomplish tasks with fewer lines of code. Unlike low-level languages, high-level languages often have limited access to hardware features. This limitation arises because the language is interpreted by a lower-level language, which restricts the available features.\n",
        "\n",
        "For example, in the case of Python, the Python interpreter is written in C language. When a code is written in Python, the C interpreter interprets and translates the code into C language, which is then compiled into machine language.\n",
        "\n",
        "High-level languages are commonly used for object-oriented and functional programming, enabling developers to perform various tasks such as machine learning, blockchain development, website development, data management, and app development. Some popular high-level languages include Python, JavaScript, SQL, Ruby, TypeScript, and Solidity. These languages provide abstractions and libraries that simplify programming tasks, allowing developers to focus on problem-solving rather than dealing with low-level details.\n",
        "\n",
        "Overall, high-level languages offer a more intuitive and efficient way to develop software compared to low-level languages, making them widely adopted in various domains of software development."
      ],
      "metadata": {
        "id": "AQVJk-FHkar9"
      }
    },
    {
      "cell_type": "markdown",
      "source": [
        "### Why Python?"
      ],
      "metadata": {
        "id": "tMWPiRrYka40"
      }
    },
    {
      "cell_type": "markdown",
      "source": [
        "Python is a highly popular language among software developers and computer scientists. It is known for its simple syntax, which makes it easier to write and understand complex functions like machine learning or deep learning tasks. Over the years, many developers have created numerous libraries for Python, offering a wide range of features and functions that contribute to technological advancements.\n",
        "\n",
        "If you're new to computing and analysis, learning Python is an excellent starting point to delve into the world of software development and artificial intelligence. Python provides a beginner-friendly environment that allows you to explore programming concepts and gain practical skills in a straightforward manner. It serves as a versatile language that can be used for various purposes, from building web applications to data analysis and beyond.\n",
        "\n",
        "By learning Python, you'll acquire a valuable skill set that opens doors to exciting opportunities in the rapidly evolving field of technology. Whether you're interested in pursuing a career in software development or exploring the fascinating world of artificial intelligence, Python will serve as an essential tool to bring your ideas to life."
      ],
      "metadata": {
        "id": "0dKYUGFOlj1h"
      }
    },
    {
      "cell_type": "markdown",
      "source": [
        "####  Basic Python Syntax"
      ],
      "metadata": {
        "id": "Z3IkR-yAe2Nu"
      }
    },
    {
      "cell_type": "markdown",
      "source": [
        "For the start, let us introduced to you how to write a simple program by using python syntax. We will introduce to the print function to print the word \" Hello World ! \" This can be written as follows"
      ],
      "metadata": {
        "id": "zuytEVuqe9QR"
      }
    },
    {
      "cell_type": "code",
      "source": [
        "print(\"Hello World\")"
      ],
      "metadata": {
        "colab": {
          "base_uri": "https://localhost:8080/"
        },
        "id": "SkVR1jH9mGAJ",
        "outputId": "a5b69fdf-da07-438f-b84d-6301f9b5102c"
      },
      "execution_count": null,
      "outputs": [
        {
          "output_type": "stream",
          "name": "stdout",
          "text": [
            "Hello World\n"
          ]
        }
      ]
    },
    {
      "cell_type": "markdown",
      "source": [
        "Now it is your turn to print the statement by putting your own name , example Hello my name is [yourname]"
      ],
      "metadata": {
        "id": "exZF3lSGmQcs"
      }
    },
    {
      "cell_type": "code",
      "source": [
        "# the '#' symbol that is used here is a comment in which very useful to debug codes and make explaination on the code.\n",
        "#code here"
      ],
      "metadata": {
        "id": "QhLujBSCmTZJ"
      },
      "execution_count": null,
      "outputs": []
    },
    {
      "cell_type": "markdown",
      "source": [
        "### Variable and Data Types"
      ],
      "metadata": {
        "id": "UVe-DEKBmeyc"
      }
    },
    {
      "cell_type": "markdown",
      "source": [
        "In Python, variables are like containers that hold information. They help us store and work with data. But not all data is the same, so we have different types to handle different kinds of data.\n",
        "\n",
        "Here are the main types of data in Python:\n",
        "\n",
        "Integers (int):\n",
        "\n",
        "These are whole numbers without any decimal points. They can be positive or negative. For example, 5 and -12 are integers. We use integers when we need to count things or work with whole numbers.\n",
        "\n",
        "Floating-point numbers (float):\n",
        "\n",
        "These are numbers with decimal points. They can be positive or negative too. For example, 3.14 and -0.5 are floating-point numbers. We use floats when we need more precise numbers or when dealing with fractions.\n",
        "\n",
        "Strings (str):\n",
        "\n",
        "These are sequences of characters. Characters can be letters, numbers, or symbols. We put strings inside quotation marks (either single or double). For example, \"Hello\" and 'Python' are strings. We use strings to store text or any combination of characters.\n",
        "\n",
        "Booleans (bool):\n",
        "\n",
        "These are special data types that can only have two values: True or False. We use booleans when we want to represent yes/no or true/false situations. For example, \"Is it raining?\" can be answered with True or False.\n",
        "\n",
        "By using the right data type for a variable, we make sure that the variable can hold and work with the specific kind of data we need. For example, if we want to store someone's age, we use an integer. If we want to store a name, we use a string.\n",
        "\n",
        "Knowing about variables and data types is important because it helps us write better programs. We can store different types of information and perform operations on them more effectively."
      ],
      "metadata": {
        "id": "TPh0ZbULm0eW"
      }
    },
    {
      "cell_type": "code",
      "source": [
        "# Variables and Data Types\n",
        "x = 10        # x is an integer\n",
        "y = 3.14      # y is a float\n",
        "name = \"John\" # name is a string\n",
        "is_valid = True  # is_valid is a boolean"
      ],
      "metadata": {
        "id": "Rnm_lrDtmoHc"
      },
      "execution_count": null,
      "outputs": []
    },
    {
      "cell_type": "markdown",
      "source": [
        "We can use these data types and print them using print function"
      ],
      "metadata": {
        "id": "pHy0vWI-m-5H"
      }
    },
    {
      "cell_type": "code",
      "source": [
        "# Each of the printed data types must be splited by  comma\" ,\" and the string datatype must use \" \"\n",
        "print(\"John is\", 10 ,\"years old\")"
      ],
      "metadata": {
        "id": "f9raWaxwnCuM"
      },
      "execution_count": null,
      "outputs": []
    },
    {
      "cell_type": "code",
      "source": [
        "# For each string, the two differnt strings can be add up into single print statement by using \"+\" syntax for example\n",
        "name = \"Faezeh\"\n",
        "region = \"United Kingdom\"\n",
        "\n",
        "print(name+\" lives in \"+ region)"
      ],
      "metadata": {
        "id": "AJm7P3s0nDpI"
      },
      "execution_count": null,
      "outputs": []
    },
    {
      "cell_type": "markdown",
      "source": [
        "Now try to build a code to produce a print statement with all the data types that listed above"
      ],
      "metadata": {
        "id": "4mYsFItFnKJU"
      }
    },
    {
      "cell_type": "code",
      "source": [
        "#code here"
      ],
      "metadata": {
        "id": "L4U2_p-5nLwt"
      },
      "execution_count": null,
      "outputs": []
    },
    {
      "cell_type": "markdown",
      "source": [
        "### Operators"
      ],
      "metadata": {
        "id": "_GMD06OsnSEt"
      }
    },
    {
      "cell_type": "markdown",
      "source": [
        "Operators are symbols or keywords that perform operations on variables and values. Python supports various types of operators, including arithmetic, assignment, comparison, logical, and bitwise operators."
      ],
      "metadata": {
        "id": "XvtlwN95nVh-"
      }
    },
    {
      "cell_type": "code",
      "source": [
        "# Here are sample operators that can be used in python\n",
        "a = 10\n",
        "b = 5\n",
        "\n",
        "sum = a + b          # Addition\n",
        "difference = a - b   # Subtraction\n",
        "product = a * b      # Multiplication\n",
        "quotient = a / b     # Division\n",
        "remainder = a % b    # Modulo (remainder)\n",
        "power = a ** b       # Exponentiation"
      ],
      "metadata": {
        "id": "NiMVtRgona-k"
      },
      "execution_count": null,
      "outputs": []
    },
    {
      "cell_type": "code",
      "source": [
        "# We can build a mathematical operation like  times * plus + , minus - , and divide / for example area of rectangle\n",
        "length =2.2\n",
        "width = 7.0\n",
        "area = length*width\n",
        "length_width_ratio = length/width\n",
        "print(\"Area is \", area)\n",
        "print(\"length width ratio is \", length_width_ratio )"
      ],
      "metadata": {
        "id": "AqolqWzAngDL"
      },
      "execution_count": null,
      "outputs": []
    },
    {
      "cell_type": "markdown",
      "source": [
        "Now build a simple mathematical operation like volume of a circle, and make the output by using print statement \"The volume of circle is [Volume of circle]\""
      ],
      "metadata": {
        "id": "vw4GQiOIni0P"
      }
    },
    {
      "cell_type": "code",
      "source": [
        "#code here"
      ],
      "metadata": {
        "id": "YvC99rvOnqQc"
      },
      "execution_count": null,
      "outputs": []
    },
    {
      "cell_type": "markdown",
      "source": [
        "### Conditional Statements"
      ],
      "metadata": {
        "id": "oWJv3wE_oMpo"
      }
    },
    {
      "cell_type": "markdown",
      "source": [
        "Conditional statements are used to execute specific blocks of code based on the evaluation of conditions. This helps your program make decisions and choose different paths to follow.\n",
        "\n",
        "In Python, we have three main conditional statements:\n",
        "\n",
        "if statement: The if statement checks if a condition is true and executes a block of code if the condition is satisfied. For example:"
      ],
      "metadata": {
        "id": "LfjjTt1Boa59"
      }
    },
    {
      "cell_type": "code",
      "source": [
        "temperature = 45\n",
        "if temperature > 30:\n",
        "    print(\"It's a hot day!\")"
      ],
      "metadata": {
        "id": "7dIAr3YDogL3"
      },
      "execution_count": null,
      "outputs": []
    },
    {
      "cell_type": "markdown",
      "source": [
        "In this case, the code inside the block (indented with four spaces) will only run if the temperature is greater than 30.\n",
        "\n",
        "else statement: The else statement is used with an if statement and provides an alternative block of code to execute when the condition in the if statement is not true. For example:"
      ],
      "metadata": {
        "id": "ZnxZgDtPohDT"
      }
    },
    {
      "cell_type": "code",
      "source": [
        "temperature =29\n",
        "if temperature > 30:\n",
        "    print(\"It's a hot day!\")\n",
        "else:\n",
        "    print(\"It's a pleasant day!\")"
      ],
      "metadata": {
        "id": "2QFQ2BOZojz4"
      },
      "execution_count": null,
      "outputs": []
    },
    {
      "cell_type": "markdown",
      "source": [
        "Here, if the temperature is not greater than 30, the code inside the else block will run.\n",
        "\n",
        "elif statement: The elif statement stands for \"else if\" and allows you to check multiple conditions one by one. It is used in conjunction with if and else statements. For example:"
      ],
      "metadata": {
        "id": "OCAk96b4op1v"
      }
    },
    {
      "cell_type": "code",
      "source": [
        "temperature = 1\n",
        "if temperature > 30:\n",
        "    print(\"It's a hot day!\")\n",
        "elif temperature < 10:\n",
        "    print(\"It's a cold day!\")\n",
        "else:\n",
        "    print(\"It's a pleasant day!\")"
      ],
      "metadata": {
        "id": "bmYgDNR4ospK"
      },
      "execution_count": null,
      "outputs": []
    },
    {
      "cell_type": "markdown",
      "source": [
        "Now build a simple conditional statements for the solution to quadratic equation ax^2+ bx +c = 0, using b^2 - 4ac,\n",
        "\n",
        "for example,\n",
        "\n",
        "if b^2 - 4ac = 0 - > \"the equation has only one solution\"\n",
        "\n",
        "if b^2 - 4ac < 0 -> \" the equation has no solution\"\n",
        "\n",
        "if b^2 - 4ac > 0 -> \"the equation has 2 solution \"\n",
        "\n",
        "you need to declare a, b and c in order to test if the code works or not"
      ],
      "metadata": {
        "id": "fNYFnkWPow3q"
      }
    },
    {
      "cell_type": "code",
      "source": [
        "#code here"
      ],
      "metadata": {
        "id": "LkYZT0IDozdn"
      },
      "execution_count": null,
      "outputs": []
    },
    {
      "cell_type": "markdown",
      "source": [
        "### Arrays and Loops"
      ],
      "metadata": {
        "id": "kv-CnSolo7mk"
      }
    },
    {
      "cell_type": "markdown",
      "source": [
        "Array:\n",
        "\n",
        "Arrays are on the other hand are sets of numbers (not strings) that are grouped together into single variable. Arrays are different to lists because it is only applied to, data types other than strings, such as float, integer, object etc. Here are the example of array:\n"
      ],
      "metadata": {
        "id": "6w6CIC2UpFim"
      }
    },
    {
      "cell_type": "code",
      "source": [
        "# Array\n",
        "# here we declare 4 numbers into an array\n",
        "prime = [2,3,5,7.0]\n",
        "\n",
        "# we extract the fourth digit using prime[3]\n",
        "print(prime[3])"
      ],
      "metadata": {
        "id": "IXtZIsh3o5-g"
      },
      "execution_count": null,
      "outputs": []
    },
    {
      "cell_type": "markdown",
      "source": [
        "Loops:\n",
        "\n",
        "Loops are used to repeat a block of code multiple times. They are helpful when you want to perform the same action over and over again.\n",
        "\n",
        "In Python, we have two main types of loops:\n",
        "\n",
        "for loop: The for loop iterates over a sequence (such as a list or a string) and executes a block of code for each item in the sequence. For example:"
      ],
      "metadata": {
        "id": "RpxdCBCSpTKp"
      }
    },
    {
      "cell_type": "code",
      "source": [
        "#This loop will print the numbers 0, 1, 2, 3, and 4, as it iterates through the range from 0 to 4.\n",
        "\n",
        "for i in range(5):\n",
        "    print(i)"
      ],
      "metadata": {
        "id": "MFJnTg4fpZJr"
      },
      "execution_count": null,
      "outputs": []
    },
    {
      "cell_type": "markdown",
      "source": [
        "Now make an array of 7 numbers and make loop that prints each of the components of the arrays"
      ],
      "metadata": {
        "id": "TkCzIxCjpusY"
      }
    },
    {
      "cell_type": "code",
      "source": [
        "#code here"
      ],
      "metadata": {
        "id": "_QJmxnR3phOD"
      },
      "execution_count": null,
      "outputs": []
    },
    {
      "cell_type": "markdown",
      "source": [
        "### Data Analysis: Generate Data Frames using Numpy and Pandas"
      ],
      "metadata": {
        "id": "wbjL1Lsep6YR"
      }
    },
    {
      "cell_type": "markdown",
      "source": [
        "Now you have learn the important syntax and commands on how to write a program in Python. In this topic you will be learning on how to generate a table called dataframe  for data analysis using numpy and pandas.\n",
        "\n",
        "A dataframe is a fundamental data structure in data analysis and manipulation. It is a two-dimensional labeled data structure, similar to a spreadsheet or a SQL table, where data is organized in rows and columns. Dataframes allow for easy handling and manipulation of data, making them an essential tool in the field of data science.\n",
        "\n",
        "\n",
        "NumPy, short for Numerical Python, is another widely used library in Python. It provides support for large, multi-dimensional arrays and matrices, along with a collection of mathematical functions to operate on these arrays efficiently. NumPy is a fundamental building block for many scientific and numerical computing tasks, and it seamlessly integrates with Pandas to perform advanced computations on dataframes.\n",
        "\n",
        "\n",
        "Pandas is a powerful open-source library in Python that provides high-performance data manipulation and analysis tools. It offers various functionalities to work with dataframes, including data cleaning, filtering, merging, reshaping, and aggregation. Pandas simplifies the process of handling large datasets, making it easier to extract valuable insights and draw meaningful conclusions."
      ],
      "metadata": {
        "id": "f5vNVfk1wtnJ"
      }
    },
    {
      "cell_type": "code",
      "source": [
        "#Here are some examples of using numpy library:\n",
        "\n",
        "import numpy as np\n",
        "\n",
        "# Creating a NumPy array\n",
        "arr = np.array([1, 2, 3, 4, 5])\n",
        "\n",
        "# Performing operations on the array\n",
        "print(\"Sum:\", np.sum(arr))\n",
        "print(\"Mean:\", np.mean(arr))\n",
        "print(\"Standard Deviation:\", np.std(arr))\n",
        "\n",
        "# Reshaping the array\n",
        "reshaped_arr = arr.reshape((5, 1))\n",
        "print(\"Reshaped Array:\")\n",
        "print(reshaped_arr)"
      ],
      "metadata": {
        "id": "p40mBGchr25J",
        "colab": {
          "base_uri": "https://localhost:8080/"
        },
        "outputId": "da24e002-ccd0-4e02-b6e8-0cd14fd8cd29"
      },
      "execution_count": 3,
      "outputs": [
        {
          "output_type": "stream",
          "name": "stdout",
          "text": [
            "Sum: 15\n",
            "Mean: 3.0\n",
            "Standard Deviation: 1.4142135623730951\n",
            "Reshaped Array:\n",
            "[[1]\n",
            " [2]\n",
            " [3]\n",
            " [4]\n",
            " [5]]\n"
          ]
        }
      ]
    },
    {
      "cell_type": "markdown",
      "source": [
        "Now make a numpy array of 10 numbers and find the ratio between the mean and the standard deviation using the numpy operator"
      ],
      "metadata": {
        "id": "yUFI9Ovh0SHl"
      }
    },
    {
      "cell_type": "code",
      "source": [],
      "metadata": {
        "id": "WtnJogz50oU2"
      },
      "execution_count": null,
      "outputs": []
    },
    {
      "cell_type": "markdown",
      "source": [],
      "metadata": {
        "id": "YJ2_6FB1z2rZ"
      }
    },
    {
      "cell_type": "code",
      "source": [
        "import pandas as pd\n",
        "\n",
        "# Creating a dataframe from a dictionary\n",
        "data = {'Name': ['John', 'Emily', 'Charlie', 'Emma'],\n",
        "        'Age': [25, 23, 30, 27],\n",
        "        'City': ['New York', 'London', 'Paris', 'Sydney']}\n",
        "df = pd.DataFrame(data)\n",
        "\n",
        "# Displaying the dataframe\n",
        "print(df)\n",
        "\n",
        "# Accessing specific columns\n",
        "print(df['Name'])\n",
        "print(df[['Name', 'City']])\n",
        "\n",
        "# Accessing specific rows\n",
        "print(df.loc[0])  #takes only row 1\n",
        "print(df.loc[1:2]) #takes row 2 and 3\n",
        "\n",
        "# Filtering rows based on a condition\n",
        "filtered_df = df[df['Age'] > 25] # takes only data that has age > 25\n",
        "print(filtered_df)"
      ],
      "metadata": {
        "colab": {
          "base_uri": "https://localhost:8080/"
        },
        "id": "mHoZcSPEx7S7",
        "outputId": "ec9a9db3-e5cc-4d01-c05f-e947a6f7ea9c"
      },
      "execution_count": 4,
      "outputs": [
        {
          "output_type": "stream",
          "name": "stdout",
          "text": [
            "      Name  Age      City\n",
            "0     John   25  New York\n",
            "1    Emily   23    London\n",
            "2  Charlie   30     Paris\n",
            "3     Emma   27    Sydney\n",
            "0       John\n",
            "1      Emily\n",
            "2    Charlie\n",
            "3       Emma\n",
            "Name: Name, dtype: object\n",
            "      Name      City\n",
            "0     John  New York\n",
            "1    Emily    London\n",
            "2  Charlie     Paris\n",
            "3     Emma    Sydney\n",
            "Name        John\n",
            "Age           25\n",
            "City    New York\n",
            "Name: 0, dtype: object\n",
            "      Name  Age    City\n",
            "1    Emily   23  London\n",
            "2  Charlie   30   Paris\n",
            "      Name  Age    City\n",
            "2  Charlie   30   Paris\n",
            "3     Emma   27  Sydney\n"
          ]
        }
      ]
    },
    {
      "cell_type": "markdown",
      "source": [
        "Now generate a dataframe of 7 rows with 3 columns with the column name, 'Name' , 'Occupation' , 'Salary' using the python dictionary (Hint: try to use the syntax that already given above) . You can put any number values in the salary and names and occupations on the name and occupation column"
      ],
      "metadata": {
        "id": "KPeLGascy1SR"
      }
    },
    {
      "cell_type": "code",
      "source": [
        "#code here"
      ],
      "metadata": {
        "id": "gFtoTDt7v2Aq"
      },
      "execution_count": null,
      "outputs": []
    },
    {
      "cell_type": "markdown",
      "source": [
        "### Data Analysis: Plotting data from dataframe using Matplotlib"
      ],
      "metadata": {
        "id": "wDWL3ZiCqHpF"
      }
    },
    {
      "cell_type": "markdown",
      "source": [
        "When it comes to visualizing data, Matplotlib is a popular plotting library in Python. It provides a wide range of functions and tools to create visually appealing and informative plots. Line graphs, also known as line charts, are commonly used to represent the relationship between two continuous variables over a specified interval. They are particularly useful for showing trends or patterns in data over time. Below are the example on how to plot a simple line graph from a given dataframe"
      ],
      "metadata": {
        "id": "VmctW3tD0wcj"
      }
    },
    {
      "cell_type": "code",
      "source": [
        "import matplotlib.pyplot as plt\n",
        "\n",
        "# make a data for the line graph from dictionary\n",
        "\n",
        "car_data = {'Years': [2015, 2016, 2017, 2018, 2019, 2020],\n",
        "        'Sales': [500, 600, 700, 900, 1000, 1200]}\n",
        "\n",
        "df_car = pd.DataFrame(car_data)\n",
        "\n",
        "# Plotting the line graph\n",
        "plt.plot(df_car['Years'], df_car['Sales'])\n",
        "\n",
        "# Adding labels and title\n",
        "plt.xlabel(\"Year\")\n",
        "plt.ylabel(\"Car Sales Profit (Million USD)\")\n",
        "plt.title(\"Car Profit over Years\")\n",
        "\n",
        "# Displaying the plot\n",
        "plt.show()"
      ],
      "metadata": {
        "colab": {
          "base_uri": "https://localhost:8080/",
          "height": 472
        },
        "id": "W9lFxixuq36h",
        "outputId": "e1e04de2-cba4-481b-d370-ca250e8f2121"
      },
      "execution_count": 5,
      "outputs": [
        {
          "output_type": "display_data",
          "data": {
            "text/plain": [
              "<Figure size 640x480 with 1 Axes>"
            ],
            "image/png": "[encoded data removed]"
          },
          "metadata": {}
        }
      ]
    },
    {
      "cell_type": "markdown",
      "source": [
        "Now plot a historical price data against historical trading days for Tesla Stock, here the\n",
        "first few lines of code to download the data is already done for you."
      ],
      "metadata": {
        "id": "4rgC3urW17Zt"
      }
    },
    {
      "cell_type": "code",
      "source": [
        "!pip install yfinance\n",
        "import numpy as np\n",
        "import matplotlib.pyplot as plt\n",
        "import yfinance as yf\n",
        "\n",
        " #this is a built in function from yahoo finance where you can get the data for any period you want.\n",
        "ticker = \"TSLA\"\n",
        "data = yf.download(ticker, period=\"1y\", interval=\"1d\")\n",
        "historical_prices = data['Close'].values\n",
        "days = len(historical_prices)\n",
        "\n",
        "plt.plot(historical_prices)"
      ],
      "metadata": {
        "colab": {
          "base_uri": "https://localhost:8080/",
          "height": 829
        },
        "id": "hoHFu1n7wr3X",
        "outputId": "9c371d6e-7fb4-40d0-a603-614ef461ed44"
      },
      "execution_count": 7,
      "outputs": [
        {
          "output_type": "stream",
          "name": "stdout",
          "text": [
            "Requirement already satisfied: yfinance in /usr/local/lib/python3.10/dist-packages (0.2.43)\n",
            "Requirement already satisfied: pandas>=1.3.0 in /usr/local/lib/python3.10/dist-packages (from yfinance) (2.1.4)\n",
            "Requirement already satisfied: numpy>=1.16.5 in /usr/local/lib/python3.10/dist-packages (from yfinance) (1.26.4)\n",
            "Requirement already satisfied: requests>=2.31 in /usr/local/lib/python3.10/dist-packages (from yfinance) (2.32.3)\n",
            "Requirement already satisfied: multitasking>=0.0.7 in /usr/local/lib/python3.10/dist-packages (from yfinance) (0.0.11)\n",
            "Requirement already satisfied: lxml>=4.9.1 in /usr/local/lib/python3.10/dist-packages (from yfinance) (4.9.4)\n",
            "Requirement already satisfied: platformdirs>=2.0.0 in /usr/local/lib/python3.10/dist-packages (from yfinance) (4.2.2)\n",
            "Requirement already satisfied: pytz>=2022.5 in /usr/local/lib/python3.10/dist-packages (from yfinance) (2024.1)\n",
            "Requirement already satisfied: frozendict>=2.3.4 in /usr/local/lib/python3.10/dist-packages (from yfinance) (2.4.4)\n",
            "Requirement already satisfied: peewee>=3.16.2 in /usr/local/lib/python3.10/dist-packages (from yfinance) (3.17.6)\n",
            "Requirement already satisfied: beautifulsoup4>=4.11.1 in /usr/local/lib/python3.10/dist-packages (from yfinance) (4.12.3)\n",
            "Requirement already satisfied: html5lib>=1.1 in /usr/local/lib/python3.10/dist-packages (from yfinance) (1.1)\n",
            "Requirement already satisfied: soupsieve>1.2 in /usr/local/lib/python3.10/dist-packages (from beautifulsoup4>=4.11.1->yfinance) (2.6)\n",
            "Requirement already satisfied: six>=1.9 in /usr/local/lib/python3.10/dist-packages (from html5lib>=1.1->yfinance) (1.16.0)\n",
            "Requirement already satisfied: webencodings in /usr/local/lib/python3.10/dist-packages (from html5lib>=1.1->yfinance) (0.5.1)\n",
            "Requirement already satisfied: python-dateutil>=2.8.2 in /usr/local/lib/python3.10/dist-packages (from pandas>=1.3.0->yfinance) (2.8.2)\n",
            "Requirement already satisfied: tzdata>=2022.1 in /usr/local/lib/python3.10/dist-packages (from pandas>=1.3.0->yfinance) (2024.1)\n",
            "Requirement already satisfied: charset-normalizer<4,>=2 in /usr/local/lib/python3.10/dist-packages (from requests>=2.31->yfinance) (3.3.2)\n",
            "Requirement already satisfied: idna<4,>=2.5 in /usr/local/lib/python3.10/dist-packages (from requests>=2.31->yfinance) (3.8)\n",
            "Requirement already satisfied: urllib3<3,>=1.21.1 in /usr/local/lib/python3.10/dist-packages (from requests>=2.31->yfinance) (2.0.7)\n",
            "Requirement already satisfied: certifi>=2017.4.17 in /usr/local/lib/python3.10/dist-packages (from requests>=2.31->yfinance) (2024.8.30)\n"
          ]
        },
        {
          "output_type": "stream",
          "name": "stderr",
          "text": [
            "\r[*********************100%***********************]  1 of 1 completed\n"
          ]
        },
        {
          "output_type": "execute_result",
          "data": {
            "text/plain": [
              "[<matplotlib.lines.Line2D at 0x7aa86d8d3fd0>]"
            ]
          },
          "metadata": {},
          "execution_count": 7
        },
        {
          "output_type": "display_data",
          "data": {
            "text/plain": [
              "<Figure size 640x480 with 1 Axes>"
            ],
            "image/png": "[encoded data removed]"
          },
          "metadata": {}
        }
      ]
    },
    {
      "cell_type": "markdown",
      "source": [
        "### Machine Learning: Running A Simple Classification on data using Decision Tree"
      ],
      "metadata": {
        "id": "Sjj0VtCOqXFl"
      }
    },
    {
      "cell_type": "markdown",
      "source": [
        "Now you have learned how to utilise the python programming language to run from a simple program to tabulating data and plotting line graphs. In this topic you will be given a simple introduction to machine learning algorithm and how to use them.\n",
        "\n",
        "Machine learning algorithms have a wide range of applications. They can predict outcomes based on past data, classify information into different categories, and uncover hidden patterns that are difficult for humans to detect. By learning from existing data, these algorithms provide us with valuable insights that guide decision-making.\n",
        "\n",
        "Throughout this topic, you will explore how to train and fine-tune this algorithm to achieve the best possible performance. You will learn about techniques for optimizing their settings to ensure accurate results. Additionally, you willl discover methods to evaluate the machine learning algorithm effectiveness and determine how well it is working for a specific task.\n",
        "\n",
        "There are three types of Machine learning algorithms:\n",
        "\n",
        "1) Supervised Learning\n",
        "\n",
        "In supervised learning, the model is trained on a labeled dataset, meaning the input data comes with corresponding output labels. The algorithm learns to map inputs to outputs and can then predict labels for new, unseen data. It’s commonly used for tasks like classification (e.g., spam detection) and regression (e.g., predicting house prices).\n",
        "\n",
        "\n",
        "2) Unsupervised Learning\n",
        "\n",
        "Unsupervised learning involves training a model on data without labeled responses. The algorithm identifies patterns and relationships in the data, often grouping or clustering similar data points together. This approach is useful for tasks like clustering (e.g., customer segmentation) and dimensionality reduction (e.g., reducing the number of features in a dataset).\n",
        "\n",
        "3) Reinforcement Learning\n",
        "\n",
        " In reinforcement learning, an agent learns by interacting with an environment and receiving rewards or penalties for its actions. The goal is to learn a strategy or policy that maximizes cumulative rewards over time. It’s commonly used in applications like robotics, gaming, and autonomous vehicles, where the agent must make decisions sequentially.\n",
        "\n",
        "In this trial course, we will only consider Supervised learning using Decision tree algorithms."
      ],
      "metadata": {
        "id": "9x8oTsnpkyHI"
      }
    },
    {
      "cell_type": "markdown",
      "source": [
        "#### Supervised Learning and Decision Tree"
      ],
      "metadata": {
        "id": "8pRgePghm8sJ"
      }
    },
    {
      "cell_type": "markdown",
      "source": [
        "Decision trees are a popular machine learning algorithm used for both classification and regression tasks. They are intuitive and easy to interpret, making them widely used in various fields, including data mining, pattern recognition, and predictive modeling.\n",
        "\n",
        "A decision tree is a tree-like structure where each internal node represents a feature or attribute, each branch represents a decision rule based on that feature, and each leaf node represents a class label or a numerical value. It makes decisions by traversing the tree from the root to a leaf node based on the feature values of the input data.\n",
        "\n",
        "The decision tree algorithm builds the tree by recursively partitioning the data based on the values of different features. The goal is to find the best splits that separate the data into different groups with respect to the target variable.\n",
        "\n"
      ],
      "metadata": {
        "id": "S3a8G7rDnltw"
      }
    },
    {
      "cell_type": "markdown",
      "source": [
        "For example, imagine you have a dataset with different features (like age, height, and weight) and a target variable (like \"pass\" or \"fail\"). Decision trees help us make decisions by creating a tree-like structure.\n",
        "\n",
        "Root Node:\n",
        "\n",
        "The topmost node in the tree is called the root node. It represents the entire dataset.\n",
        "\n",
        "Branches:\n",
        "\n",
        "From the root node, branches extend to other nodes. Each branch represents a decision based on one of the features. For example, a branch could represent the decision \"Is the age greater than 18?\"\n",
        "\n",
        "Internal Nodes:\n",
        "\n",
        "The nodes in the middle of the tree are called internal nodes. They represent intermediate decisions based on the features.\n",
        "\n",
        "Leaf Nodes:\n",
        "\n",
        "At the end of the branches, we have leaf nodes. These nodes represent the final decision or outcome. For example, a leaf node could represent the decision \"Fail.\"\n",
        "\n",
        "To create the decision tree, we use an algorithm that looks at the features and their values to determine the best decisions to make. The algorithm finds the feature that most effectively splits the data into groups that have similar outcomes. It continues to split the data into smaller and more homogenous groups until it reaches leaf nodes.\n",
        "\n",
        "To make a prediction using the decision tree, we start at the root node and follow the branches based on the feature values of the data we want to predict. Eventually, we reach a leaf node that gives us the final decision or outcome.\n",
        "\n",
        "The simplicity of decision trees lies in their ability to make decisions by asking questions and following different paths based on the answers. The questions are based on the features, and the paths lead us to the final predictions.\n",
        "\n",
        "Here, we will use a library from sklearn to classify cancer and non cancer patients using decision trees that based on multiple properties such as radii, smoothness etc."
      ],
      "metadata": {
        "id": "hXsXsSX5oYCz"
      }
    },
    {
      "cell_type": "markdown",
      "source": [
        "####Example : Classification of Cancer Patients from Scikit Learn dataset"
      ],
      "metadata": {
        "id": "CN-dw7Y3offf"
      }
    },
    {
      "cell_type": "markdown",
      "source": [
        "Here the code below describe how to classify cancer and non-cancer patients based on their characteristics of the cells using decision tree classifier. The code runs by downloading the dataset and sort them into data and target variable (in this case is the \"Cancer Patient\" or \"Non Cancer Patient\"). The  code then splits the training data set and test dataset in a random way. The code is then runs the decision tree classifier on the training dataset in order to construct the fitting function for the test data set.\n",
        "\n",
        "The code is then runs the acuracy test of the classifier."
      ],
      "metadata": {
        "id": "UlUh5P1ypPi2"
      }
    },
    {
      "cell_type": "code",
      "source": [
        "from sklearn.datasets import load_breast_cancer\n",
        "from sklearn.model_selection import train_test_split\n",
        "from sklearn.tree import DecisionTreeClassifier\n",
        "from sklearn.metrics import accuracy_score\n",
        "\n",
        "#load cancer data set\n",
        "\n",
        "data = load_breast_cancer()\n",
        "X = data.data\n",
        "y = data.target\n",
        "\n",
        "# Split the data into training and testing sets\n",
        "X_train, X_test, y_train, y_test = train_test_split(X, y, test_size=0.2, random_state=42)\n",
        "\n",
        "# Create a decision tree classifier\n",
        "clf = DecisionTreeClassifier()\n",
        "\n",
        "# Train the classifier\n",
        "clf.fit(X_train, y_train)\n",
        "\n",
        "# Make predictions on the test set\n",
        "y_pred = clf.predict(X_test)\n",
        "\n",
        "# Calculate the accuracy of the classifier\n",
        "accuracy = accuracy_score(y_test, y_pred)\n",
        "print(\"Accuracy:\", accuracy)"
      ],
      "metadata": {
        "id": "XZ_48IF6wslr",
        "colab": {
          "base_uri": "https://localhost:8080/"
        },
        "outputId": "e2241d49-dae0-4b1c-8a0a-b8d69e89d929"
      },
      "execution_count": 9,
      "outputs": [
        {
          "output_type": "stream",
          "name": "stdout",
          "text": [
            "Accuracy: 0.9385964912280702\n"
          ]
        }
      ]
    },
    {
      "cell_type": "markdown",
      "source": [
        "Now try to modify code above to optimise the Decision tree algorithm to increase it's prediction acuracy"
      ],
      "metadata": {
        "id": "JYJM78Vzo27b"
      }
    },
    {
      "cell_type": "code",
      "source": [
        "#code here\n"
      ],
      "metadata": {
        "id": "x7LZZ5QeormO"
      },
      "execution_count": 11,
      "outputs": []
    },
    {
      "cell_type": "markdown",
      "source": [
        "### Congratulations! You have completed the free trial course!!"
      ],
      "metadata": {
        "id": "2DpupX7OrqnA"
      }
    },
    {
      "cell_type": "markdown",
      "source": [
        "Now you have completed the free trial course on Python Machine Learning and Data Analysis Trial. If you are interested in this course, don't hesitate to register with us at www.snglabs.org/courses/data_analysis_python for the full course enrollment"
      ],
      "metadata": {
        "id": "wBcq55L4q441"
      }
    }
  ]
}